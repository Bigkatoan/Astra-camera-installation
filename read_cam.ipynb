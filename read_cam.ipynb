{
 "cells": [
  {
   "cell_type": "code",
   "execution_count": 1,
   "id": "8d3a28b9-2292-46a2-8004-bc024ae22971",
   "metadata": {},
   "outputs": [],
   "source": [
    "from astra_camera import Camera\n",
    "import cv2"
   ]
  },
  {
   "cell_type": "code",
   "execution_count": 2,
   "id": "c3f18a3a-a0bb-4f2a-a653-7f45547ac394",
   "metadata": {},
   "outputs": [],
   "source": [
    "cam = Camera()"
   ]
  },
  {
   "cell_type": "code",
   "execution_count": null,
   "id": "a341e03f-fbd4-47ce-934e-68c3d8168a1d",
   "metadata": {},
   "outputs": [],
   "source": [
    "try:\n",
    "    while True:\n",
    "        depth, rgb = cam.get_depth_and_color()\n",
    "        cv2.imshow('depth', depth)\n",
    "        cv2.imshow('rgb', rgb)\n",
    "        cv2.waitKey(cam.wait_time)\n",
    "except:\n",
    "    cam.unload()"
   ]
  }
 ],
 "metadata": {
  "kernelspec": {
   "display_name": "Python 3 (ipykernel)",
   "language": "python",
   "name": "python3"
  },
  "language_info": {
   "codemirror_mode": {
    "name": "ipython",
    "version": 3
   },
   "file_extension": ".py",
   "mimetype": "text/x-python",
   "name": "python",
   "nbconvert_exporter": "python",
   "pygments_lexer": "ipython3",
   "version": "3.9.15"
  }
 },
 "nbformat": 4,
 "nbformat_minor": 5
}
